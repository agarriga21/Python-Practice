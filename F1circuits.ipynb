{
 "cells": [
  {
   "cell_type": "code",
   "execution_count": 1,
   "id": "6c7217ff",
   "metadata": {},
   "outputs": [],
   "source": [
    "import pandas as pd "
   ]
  },
  {
   "cell_type": "code",
   "execution_count": 2,
   "id": "24b71a83",
   "metadata": {},
   "outputs": [
    {
     "data": {
      "text/plain": [
       "'C:\\\\Users\\\\Alex Garriga\\\\AppData\\\\Local\\\\Programs\\\\Python\\\\Python310\\\\lib\\\\site-packages\\\\pyspark'"
      ]
     },
     "execution_count": 2,
     "metadata": {},
     "output_type": "execute_result"
    }
   ],
   "source": [
    "import findspark\n",
    "\n",
    "findspark.find()"
   ]
  },
  {
   "cell_type": "code",
   "execution_count": 3,
   "id": "c12996f9",
   "metadata": {},
   "outputs": [],
   "source": [
    "findspark.init('C:\\\\Users\\\\Alex Garriga\\\\AppData\\\\Local\\\\Programs\\\\Python\\\\Python310\\\\lib\\\\site-packages\\\\pyspark')"
   ]
  },
  {
   "cell_type": "code",
   "execution_count": 4,
   "id": "da26f4e3",
   "metadata": {},
   "outputs": [],
   "source": [
    "from pyspark import SparkContext, SparkConf\n",
    "from pyspark.sql import SparkSession"
   ]
  },
  {
   "cell_type": "code",
   "execution_count": 5,
   "id": "d0ede5f9",
   "metadata": {},
   "outputs": [],
   "source": [
    "spark = SparkSession.builder.master(\"local\").appName(\"Spark 1\").getOrCreate()"
   ]
  },
  {
   "cell_type": "code",
   "execution_count": 6,
   "id": "8d98d1de",
   "metadata": {},
   "outputs": [],
   "source": [
    "from pyspark.sql.types import StructType, StructField, IntegerType, StringType, DoubleType"
   ]
  },
  {
   "cell_type": "code",
   "execution_count": 7,
   "id": "6a3822a5",
   "metadata": {},
   "outputs": [],
   "source": [
    "circuits_schema = StructType(fields=[StructField(\"circuitId\", IntegerType(), False),\n",
    "                                     StructField(\"circuitRef\", StringType(), True),\n",
    "                                     StructField(\"name\", StringType(), True),\n",
    "                                     StructField(\"location\", StringType(), True),\n",
    "                                     StructField(\"country\", StringType(), True),\n",
    "                                     StructField(\"lat\", DoubleType(), True),\n",
    "                                     StructField(\"lng\", DoubleType(), True),\n",
    "                                     StructField(\"alt\", IntegerType(), True),\n",
    "                                     StructField(\"url\", StringType(), True)\n",
    "])"
   ]
  },
  {
   "cell_type": "code",
   "execution_count": 8,
   "id": "f46e896e",
   "metadata": {},
   "outputs": [],
   "source": [
    "circuits_df = spark.read.option(\"header\",True).schema(circuits_schema).csv(\"C:/Users/Alex Garriga/Downloads/f1db_csv/circuits.csv\")"
   ]
  },
  {
   "cell_type": "code",
   "execution_count": 9,
   "id": "90526cbc",
   "metadata": {},
   "outputs": [
    {
     "data": {
      "text/plain": [
       "pyspark.sql.dataframe.DataFrame"
      ]
     },
     "execution_count": 9,
     "metadata": {},
     "output_type": "execute_result"
    }
   ],
   "source": [
    "type(circuits_df)"
   ]
  },
  {
   "cell_type": "code",
   "execution_count": 10,
   "id": "04f96fac",
   "metadata": {},
   "outputs": [
    {
     "name": "stdout",
     "output_type": "stream",
     "text": [
      "+---------+--------------+--------------------+------------+---------+--------+---------+---+--------------------+\n",
      "|circuitId|    circuitRef|                name|    location|  country|     lat|      lng|alt|                 url|\n",
      "+---------+--------------+--------------------+------------+---------+--------+---------+---+--------------------+\n",
      "|        1|   albert_park|Albert Park Grand...|   Melbourne|Australia|-37.8497|  144.968| 10|http://en.wikiped...|\n",
      "|        2|        sepang|Sepang Internatio...|Kuala Lumpur| Malaysia| 2.76083|  101.738| 18|http://en.wikiped...|\n",
      "|        3|       bahrain|Bahrain Internati...|      Sakhir|  Bahrain| 26.0325|  50.5106|  7|http://en.wikiped...|\n",
      "|        4|     catalunya|Circuit de Barcel...|    Montmeló|    Spain|   41.57|  2.26111|109|http://en.wikiped...|\n",
      "|        5|      istanbul|       Istanbul Park|    Istanbul|   Turkey| 40.9517|   29.405|130|http://en.wikiped...|\n",
      "|        6|        monaco|   Circuit de Monaco| Monte-Carlo|   Monaco| 43.7347|  7.42056|  7|http://en.wikiped...|\n",
      "|        7|    villeneuve|Circuit Gilles Vi...|    Montreal|   Canada|    45.5| -73.5228| 13|http://en.wikiped...|\n",
      "|        8|   magny_cours|Circuit de Nevers...| Magny Cours|   France| 46.8642|  3.16361|228|http://en.wikiped...|\n",
      "|        9|   silverstone| Silverstone Circuit| Silverstone|       UK| 52.0786| -1.01694|153|http://en.wikiped...|\n",
      "|       10|hockenheimring|      Hockenheimring|  Hockenheim|  Germany| 49.3278|  8.56583|103|http://en.wikiped...|\n",
      "|       11|   hungaroring|         Hungaroring|    Budapest|  Hungary| 47.5789|  19.2486|264|http://en.wikiped...|\n",
      "|       12|      valencia|Valencia Street C...|    Valencia|    Spain| 39.4589|-0.331667|  4|http://en.wikiped...|\n",
      "|       13|           spa|Circuit de Spa-Fr...|         Spa|  Belgium| 50.4372|  5.97139|401|http://en.wikiped...|\n",
      "|       14|         monza|Autodromo Naziona...|       Monza|    Italy| 45.6156|  9.28111|162|http://en.wikiped...|\n",
      "|       15|    marina_bay|Marina Bay Street...|  Marina Bay|Singapore|  1.2914|  103.864| 18|http://en.wikiped...|\n",
      "|       16|          fuji|       Fuji Speedway|       Oyama|    Japan| 35.3717|  138.927|583|http://en.wikiped...|\n",
      "|       17|      shanghai|Shanghai Internat...|    Shanghai|    China| 31.3389|   121.22|  5|http://en.wikiped...|\n",
      "|       18|    interlagos|Autódromo José Ca...|   São Paulo|   Brazil|-23.7036| -46.6997|785|http://en.wikiped...|\n",
      "|       19|  indianapolis|Indianapolis Moto...|Indianapolis|      USA|  39.795| -86.2347|223|http://en.wikiped...|\n",
      "|       20|   nurburgring|         Nürburgring|     Nürburg|  Germany| 50.3356|   6.9475|578|http://en.wikiped...|\n",
      "+---------+--------------+--------------------+------------+---------+--------+---------+---+--------------------+\n",
      "only showing top 20 rows\n",
      "\n"
     ]
    }
   ],
   "source": [
    "circuits_df.show()"
   ]
  },
  {
   "cell_type": "code",
   "execution_count": 11,
   "id": "b08b511b",
   "metadata": {},
   "outputs": [
    {
     "name": "stdout",
     "output_type": "stream",
     "text": [
      "root\n",
      " |-- circuitId: integer (nullable = true)\n",
      " |-- circuitRef: string (nullable = true)\n",
      " |-- name: string (nullable = true)\n",
      " |-- location: string (nullable = true)\n",
      " |-- country: string (nullable = true)\n",
      " |-- lat: double (nullable = true)\n",
      " |-- lng: double (nullable = true)\n",
      " |-- alt: integer (nullable = true)\n",
      " |-- url: string (nullable = true)\n",
      "\n"
     ]
    }
   ],
   "source": [
    "circuits_df.printSchema()"
   ]
  },
  {
   "cell_type": "code",
   "execution_count": 12,
   "id": "fde3edcf",
   "metadata": {},
   "outputs": [
    {
     "name": "stdout",
     "output_type": "stream",
     "text": [
      "+-------+------------------+----------+-------+---------+---------+------------------+-----------------+-----------------+--------------------+\n",
      "|summary|         circuitId|circuitRef|   name| location|  country|               lat|              lng|              alt|                 url|\n",
      "+-------+------------------+----------+-------+---------+---------+------------------+-----------------+-----------------+--------------------+\n",
      "|  count|                79|        79|     79|       79|       79|                79|               79|               77|                  79|\n",
      "|   mean|              40.0|      null|   null|     null|     null|   33.519034556962|3.096167088607595|247.4935064935065|                null|\n",
      "| stddev|22.949219304078007|      null|   null|     null|     null|22.625426873911685|64.96320431281227|363.2672505910991|                null|\n",
      "|    min|                 1|       BAK|A1-Ring|Abu Dhabi|Argentina|          -37.8497|         -118.189|               -7|http://en.wikiped...|\n",
      "|    max|                79|    zolder| Zolder|Zandvoort|  Vietnam|           57.2653|          144.968|             2227|http://en.wikiped...|\n",
      "+-------+------------------+----------+-------+---------+---------+------------------+-----------------+-----------------+--------------------+\n",
      "\n"
     ]
    }
   ],
   "source": [
    "circuits_df.describe().show()"
   ]
  },
  {
   "cell_type": "code",
   "execution_count": 13,
   "id": "03a8a0d9",
   "metadata": {},
   "outputs": [],
   "source": [
    "from pyspark.sql.functions import col"
   ]
  },
  {
   "cell_type": "code",
   "execution_count": 14,
   "id": "ef7e0b38",
   "metadata": {},
   "outputs": [],
   "source": [
    "circuits_selected_df = circuits_df.select(col(\"circuitId\"), col(\"circuitRef\"), col(\"name\"), col(\"location\"), col(\"country\"), col(\"lat\"), col(\"lng\"), col(\"alt\"))"
   ]
  },
  {
   "cell_type": "code",
   "execution_count": 15,
   "id": "21eb4424",
   "metadata": {},
   "outputs": [
    {
     "data": {
      "text/plain": [
       "DataFrame[circuitId: int, circuitRef: string, name: string, location: string, country: string, lat: double, lng: double, alt: int]"
      ]
     },
     "metadata": {},
     "output_type": "display_data"
    }
   ],
   "source": [
    "display(circuits_selected_df)"
   ]
  },
  {
   "cell_type": "code",
   "execution_count": 16,
   "id": "a86c437b",
   "metadata": {},
   "outputs": [
    {
     "name": "stdout",
     "output_type": "stream",
     "text": [
      "+---------+--------------+--------------------+------------+---------+--------+---------+---+\n",
      "|circuitId|    circuitRef|                name|    location|  country|     lat|      lng|alt|\n",
      "+---------+--------------+--------------------+------------+---------+--------+---------+---+\n",
      "|        1|   albert_park|Albert Park Grand...|   Melbourne|Australia|-37.8497|  144.968| 10|\n",
      "|        2|        sepang|Sepang Internatio...|Kuala Lumpur| Malaysia| 2.76083|  101.738| 18|\n",
      "|        3|       bahrain|Bahrain Internati...|      Sakhir|  Bahrain| 26.0325|  50.5106|  7|\n",
      "|        4|     catalunya|Circuit de Barcel...|    Montmeló|    Spain|   41.57|  2.26111|109|\n",
      "|        5|      istanbul|       Istanbul Park|    Istanbul|   Turkey| 40.9517|   29.405|130|\n",
      "|        6|        monaco|   Circuit de Monaco| Monte-Carlo|   Monaco| 43.7347|  7.42056|  7|\n",
      "|        7|    villeneuve|Circuit Gilles Vi...|    Montreal|   Canada|    45.5| -73.5228| 13|\n",
      "|        8|   magny_cours|Circuit de Nevers...| Magny Cours|   France| 46.8642|  3.16361|228|\n",
      "|        9|   silverstone| Silverstone Circuit| Silverstone|       UK| 52.0786| -1.01694|153|\n",
      "|       10|hockenheimring|      Hockenheimring|  Hockenheim|  Germany| 49.3278|  8.56583|103|\n",
      "|       11|   hungaroring|         Hungaroring|    Budapest|  Hungary| 47.5789|  19.2486|264|\n",
      "|       12|      valencia|Valencia Street C...|    Valencia|    Spain| 39.4589|-0.331667|  4|\n",
      "|       13|           spa|Circuit de Spa-Fr...|         Spa|  Belgium| 50.4372|  5.97139|401|\n",
      "|       14|         monza|Autodromo Naziona...|       Monza|    Italy| 45.6156|  9.28111|162|\n",
      "|       15|    marina_bay|Marina Bay Street...|  Marina Bay|Singapore|  1.2914|  103.864| 18|\n",
      "|       16|          fuji|       Fuji Speedway|       Oyama|    Japan| 35.3717|  138.927|583|\n",
      "|       17|      shanghai|Shanghai Internat...|    Shanghai|    China| 31.3389|   121.22|  5|\n",
      "|       18|    interlagos|Autódromo José Ca...|   São Paulo|   Brazil|-23.7036| -46.6997|785|\n",
      "|       19|  indianapolis|Indianapolis Moto...|Indianapolis|      USA|  39.795| -86.2347|223|\n",
      "|       20|   nurburgring|         Nürburgring|     Nürburg|  Germany| 50.3356|   6.9475|578|\n",
      "+---------+--------------+--------------------+------------+---------+--------+---------+---+\n",
      "only showing top 20 rows\n",
      "\n"
     ]
    }
   ],
   "source": [
    "circuits_selected_df.show()"
   ]
  },
  {
   "cell_type": "code",
   "execution_count": 17,
   "id": "675bc1d5",
   "metadata": {},
   "outputs": [],
   "source": [
    "#Renaming Columns\n",
    "circuits_renamed_df = circuits_selected_df.withColumnRenamed(\"circuitId\", \"circuit_id\") \\\n",
    ".withColumnRenamed(\"circuitRef\", \"circuit_ref\") \\\n",
    ".withColumnRenamed(\"lat\", \"latitude\") \\\n",
    ".withColumnRenamed(\"lng\", \"longitude\") \\\n",
    ".withColumnRenamed(\"alt\", \"altitude\") "
   ]
  },
  {
   "cell_type": "code",
   "execution_count": 18,
   "id": "f715c948",
   "metadata": {},
   "outputs": [
    {
     "name": "stdout",
     "output_type": "stream",
     "text": [
      "+----------+--------------+--------------------+------------+---------+--------+---------+--------+\n",
      "|circuit_id|   circuit_ref|                name|    location|  country|latitude|longitude|altitude|\n",
      "+----------+--------------+--------------------+------------+---------+--------+---------+--------+\n",
      "|         1|   albert_park|Albert Park Grand...|   Melbourne|Australia|-37.8497|  144.968|      10|\n",
      "|         2|        sepang|Sepang Internatio...|Kuala Lumpur| Malaysia| 2.76083|  101.738|      18|\n",
      "|         3|       bahrain|Bahrain Internati...|      Sakhir|  Bahrain| 26.0325|  50.5106|       7|\n",
      "|         4|     catalunya|Circuit de Barcel...|    Montmeló|    Spain|   41.57|  2.26111|     109|\n",
      "|         5|      istanbul|       Istanbul Park|    Istanbul|   Turkey| 40.9517|   29.405|     130|\n",
      "|         6|        monaco|   Circuit de Monaco| Monte-Carlo|   Monaco| 43.7347|  7.42056|       7|\n",
      "|         7|    villeneuve|Circuit Gilles Vi...|    Montreal|   Canada|    45.5| -73.5228|      13|\n",
      "|         8|   magny_cours|Circuit de Nevers...| Magny Cours|   France| 46.8642|  3.16361|     228|\n",
      "|         9|   silverstone| Silverstone Circuit| Silverstone|       UK| 52.0786| -1.01694|     153|\n",
      "|        10|hockenheimring|      Hockenheimring|  Hockenheim|  Germany| 49.3278|  8.56583|     103|\n",
      "|        11|   hungaroring|         Hungaroring|    Budapest|  Hungary| 47.5789|  19.2486|     264|\n",
      "|        12|      valencia|Valencia Street C...|    Valencia|    Spain| 39.4589|-0.331667|       4|\n",
      "|        13|           spa|Circuit de Spa-Fr...|         Spa|  Belgium| 50.4372|  5.97139|     401|\n",
      "|        14|         monza|Autodromo Naziona...|       Monza|    Italy| 45.6156|  9.28111|     162|\n",
      "|        15|    marina_bay|Marina Bay Street...|  Marina Bay|Singapore|  1.2914|  103.864|      18|\n",
      "|        16|          fuji|       Fuji Speedway|       Oyama|    Japan| 35.3717|  138.927|     583|\n",
      "|        17|      shanghai|Shanghai Internat...|    Shanghai|    China| 31.3389|   121.22|       5|\n",
      "|        18|    interlagos|Autódromo José Ca...|   São Paulo|   Brazil|-23.7036| -46.6997|     785|\n",
      "|        19|  indianapolis|Indianapolis Moto...|Indianapolis|      USA|  39.795| -86.2347|     223|\n",
      "|        20|   nurburgring|         Nürburgring|     Nürburg|  Germany| 50.3356|   6.9475|     578|\n",
      "+----------+--------------+--------------------+------------+---------+--------+---------+--------+\n",
      "only showing top 20 rows\n",
      "\n"
     ]
    }
   ],
   "source": [
    "circuits_renamed_df.show()"
   ]
  },
  {
   "cell_type": "code",
   "execution_count": 19,
   "id": "ebf326cb",
   "metadata": {},
   "outputs": [],
   "source": [
    "from pyspark.sql.functions import current_timestamp"
   ]
  },
  {
   "cell_type": "code",
   "execution_count": 20,
   "id": "f278da02",
   "metadata": {},
   "outputs": [],
   "source": [
    "circuits_final_df = circuits_renamed_df.withColumn(\"ingestion_date\", current_timestamp()) "
   ]
  },
  {
   "cell_type": "code",
   "execution_count": 21,
   "id": "bc6d3a04",
   "metadata": {},
   "outputs": [
    {
     "name": "stdout",
     "output_type": "stream",
     "text": [
      "+----------+--------------+--------------------+------------+---------+--------+---------+--------+--------------------+\n",
      "|circuit_id|   circuit_ref|                name|    location|  country|latitude|longitude|altitude|      ingestion_date|\n",
      "+----------+--------------+--------------------+------------+---------+--------+---------+--------+--------------------+\n",
      "|         1|   albert_park|Albert Park Grand...|   Melbourne|Australia|-37.8497|  144.968|      10|2022-06-16 12:16:...|\n",
      "|         2|        sepang|Sepang Internatio...|Kuala Lumpur| Malaysia| 2.76083|  101.738|      18|2022-06-16 12:16:...|\n",
      "|         3|       bahrain|Bahrain Internati...|      Sakhir|  Bahrain| 26.0325|  50.5106|       7|2022-06-16 12:16:...|\n",
      "|         4|     catalunya|Circuit de Barcel...|    Montmeló|    Spain|   41.57|  2.26111|     109|2022-06-16 12:16:...|\n",
      "|         5|      istanbul|       Istanbul Park|    Istanbul|   Turkey| 40.9517|   29.405|     130|2022-06-16 12:16:...|\n",
      "|         6|        monaco|   Circuit de Monaco| Monte-Carlo|   Monaco| 43.7347|  7.42056|       7|2022-06-16 12:16:...|\n",
      "|         7|    villeneuve|Circuit Gilles Vi...|    Montreal|   Canada|    45.5| -73.5228|      13|2022-06-16 12:16:...|\n",
      "|         8|   magny_cours|Circuit de Nevers...| Magny Cours|   France| 46.8642|  3.16361|     228|2022-06-16 12:16:...|\n",
      "|         9|   silverstone| Silverstone Circuit| Silverstone|       UK| 52.0786| -1.01694|     153|2022-06-16 12:16:...|\n",
      "|        10|hockenheimring|      Hockenheimring|  Hockenheim|  Germany| 49.3278|  8.56583|     103|2022-06-16 12:16:...|\n",
      "|        11|   hungaroring|         Hungaroring|    Budapest|  Hungary| 47.5789|  19.2486|     264|2022-06-16 12:16:...|\n",
      "|        12|      valencia|Valencia Street C...|    Valencia|    Spain| 39.4589|-0.331667|       4|2022-06-16 12:16:...|\n",
      "|        13|           spa|Circuit de Spa-Fr...|         Spa|  Belgium| 50.4372|  5.97139|     401|2022-06-16 12:16:...|\n",
      "|        14|         monza|Autodromo Naziona...|       Monza|    Italy| 45.6156|  9.28111|     162|2022-06-16 12:16:...|\n",
      "|        15|    marina_bay|Marina Bay Street...|  Marina Bay|Singapore|  1.2914|  103.864|      18|2022-06-16 12:16:...|\n",
      "|        16|          fuji|       Fuji Speedway|       Oyama|    Japan| 35.3717|  138.927|     583|2022-06-16 12:16:...|\n",
      "|        17|      shanghai|Shanghai Internat...|    Shanghai|    China| 31.3389|   121.22|       5|2022-06-16 12:16:...|\n",
      "|        18|    interlagos|Autódromo José Ca...|   São Paulo|   Brazil|-23.7036| -46.6997|     785|2022-06-16 12:16:...|\n",
      "|        19|  indianapolis|Indianapolis Moto...|Indianapolis|      USA|  39.795| -86.2347|     223|2022-06-16 12:16:...|\n",
      "|        20|   nurburgring|         Nürburgring|     Nürburg|  Germany| 50.3356|   6.9475|     578|2022-06-16 12:16:...|\n",
      "+----------+--------------+--------------------+------------+---------+--------+---------+--------+--------------------+\n",
      "only showing top 20 rows\n",
      "\n"
     ]
    }
   ],
   "source": [
    "circuits_final_df.show()"
   ]
  },
  {
   "cell_type": "code",
   "execution_count": 27,
   "id": "63be2a05",
   "metadata": {},
   "outputs": [],
   "source": [
    "circuits_final_df.write.mode(\"overwrite\").csv(\"C:/Users/Alex Garriga/OneDrive/Documents/testing/circuits_final_df/csv/circuits.csv\")"
   ]
  },
  {
   "cell_type": "code",
   "execution_count": 25,
   "id": "5b611b5c",
   "metadata": {},
   "outputs": [],
   "source": [
    "circuits_final_df.write.mode(\"overwrite\").parquet(\"C:/Users/Alex Garriga/OneDrive/Documents/testing/circuits_final_df/parquet\")"
   ]
  },
  {
   "cell_type": "code",
   "execution_count": 50,
   "id": "f3c48902",
   "metadata": {},
   "outputs": [],
   "source": [
    "from pyspark.sql.functions import count, countDistinct, sum, max"
   ]
  },
  {
   "cell_type": "code",
   "execution_count": 29,
   "id": "b415a39f",
   "metadata": {},
   "outputs": [
    {
     "name": "stdout",
     "output_type": "stream",
     "text": [
      "+--------+\n",
      "|count(1)|\n",
      "+--------+\n",
      "|      79|\n",
      "+--------+\n",
      "\n"
     ]
    }
   ],
   "source": [
    "circuits_final_df.select(count(\"*\")).show()"
   ]
  },
  {
   "cell_type": "code",
   "execution_count": 30,
   "id": "92952dd1",
   "metadata": {},
   "outputs": [
    {
     "name": "stdout",
     "output_type": "stream",
     "text": [
      "+-----------------------+\n",
      "|count(DISTINCT country)|\n",
      "+-----------------------+\n",
      "|                     35|\n",
      "+-----------------------+\n",
      "\n"
     ]
    }
   ],
   "source": [
    "circuits_final_df.select(countDistinct(\"country\")).show()"
   ]
  },
  {
   "cell_type": "code",
   "execution_count": 31,
   "id": "64a24d01",
   "metadata": {},
   "outputs": [
    {
     "name": "stdout",
     "output_type": "stream",
     "text": [
      "+-------------+\n",
      "|sum(altitude)|\n",
      "+-------------+\n",
      "|        19057|\n",
      "+-------------+\n",
      "\n"
     ]
    }
   ],
   "source": [
    "circuits_final_df.select(sum(\"altitude\")).show()"
   ]
  },
  {
   "cell_type": "code",
   "execution_count": 32,
   "id": "9c3db557",
   "metadata": {},
   "outputs": [
    {
     "name": "stdout",
     "output_type": "stream",
     "text": [
      "+-------------+\n",
      "|sum(altitude)|\n",
      "+-------------+\n",
      "|           13|\n",
      "+-------------+\n",
      "\n"
     ]
    }
   ],
   "source": [
    "circuits_final_df.filter(\"circuit_ref='villeneuve'\").select(sum(\"altitude\")).show()"
   ]
  },
  {
   "cell_type": "code",
   "execution_count": 33,
   "id": "0687f063",
   "metadata": {},
   "outputs": [
    {
     "name": "stdout",
     "output_type": "stream",
     "text": [
      "+-------------+\n",
      "|sum(altitude)|\n",
      "+-------------+\n",
      "|          923|\n",
      "+-------------+\n",
      "\n"
     ]
    }
   ],
   "source": [
    "circuits_final_df.filter(\"country='Spain'\").select(sum(\"altitude\")).show()"
   ]
  },
  {
   "cell_type": "code",
   "execution_count": 51,
   "id": "9c8a7c2a",
   "metadata": {},
   "outputs": [
    {
     "name": "stdout",
     "output_type": "stream",
     "text": [
      "+----------+------------+------------------+\n",
      "|   country|max_altitude|number_of_location|\n",
      "+----------+------------+------------------+\n",
      "|    Russia|           2|                 1|\n",
      "|    Sweden|         153|                 1|\n",
      "| Singapore|          18|                 1|\n",
      "|  Malaysia|          18|                 1|\n",
      "|    Turkey|         130|                 1|\n",
      "|   Germany|         578|                 3|\n",
      "|    France|         790|                 7|\n",
      "| Argentina|           8|                 1|\n",
      "|   Belgium|         401|                 3|\n",
      "|     Qatar|        null|                 1|\n",
      "|     India|         194|                 1|\n",
      "|     China|           5|                 1|\n",
      "|     Italy|         255|                 4|\n",
      "|     Spain|         609|                 5|\n",
      "|   Morocco|          19|                 1|\n",
      "|    Monaco|           7|                 1|\n",
      "|       USA|         639|                11|\n",
      "|    Mexico|        2227|                 1|\n",
      "|Azerbaijan|          -7|                 1|\n",
      "|        UK|         153|                 4|\n",
      "+----------+------------+------------------+\n",
      "only showing top 20 rows\n",
      "\n"
     ]
    }
   ],
   "source": [
    "circuits_final_df.groupBy(\"country\") \\\n",
    ".agg(max(\"altitude\").alias(\"max_altitude\"), countDistinct(\"location\").alias(\"number_of_location\")).show()"
   ]
  },
  {
   "cell_type": "code",
   "execution_count": null,
   "id": "2a650109",
   "metadata": {},
   "outputs": [],
   "source": []
  }
 ],
 "metadata": {
  "kernelspec": {
   "display_name": "Python 3 (ipykernel)",
   "language": "python",
   "name": "python3"
  },
  "language_info": {
   "codemirror_mode": {
    "name": "ipython",
    "version": 3
   },
   "file_extension": ".py",
   "mimetype": "text/x-python",
   "name": "python",
   "nbconvert_exporter": "python",
   "pygments_lexer": "ipython3",
   "version": "3.10.0"
  }
 },
 "nbformat": 4,
 "nbformat_minor": 5
}
