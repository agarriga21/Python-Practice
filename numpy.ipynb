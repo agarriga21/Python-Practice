{
 "cells": [
  {
   "cell_type": "code",
   "execution_count": 2,
   "id": "51eab054",
   "metadata": {},
   "outputs": [],
   "source": [
    "import numpy as np"
   ]
  },
  {
   "cell_type": "code",
   "execution_count": 3,
   "id": "eba73044",
   "metadata": {},
   "outputs": [],
   "source": [
    "import pandas as pd"
   ]
  },
  {
   "cell_type": "code",
   "execution_count": 4,
   "id": "a1ab94f2",
   "metadata": {},
   "outputs": [],
   "source": [
    "x = pd.read_csv(\"C:/Users/Alex Garriga/Downloads/email-password-recovery-code.csv\", header=0).values"
   ]
  },
  {
   "cell_type": "code",
   "execution_count": 5,
   "id": "e627a260",
   "metadata": {},
   "outputs": [
    {
     "name": "stdout",
     "output_type": "stream",
     "text": [
      "[['rachel@example.com;9012;12se74;rb9012;Rachel;Booker;Sales;Manchester']\n",
      " ['laura@example.com;2070;04ap67;lg2070;Laura;Grey;Depot;London']\n",
      " ['craig@example.com;4081;30no86;cj4081;Craig;Johnson;Depot;London']\n",
      " ['mary@example.com;9346;14ju73;mj9346;Mary;Jenkins;Engineering;Manchester']\n",
      " ['jamie@example.com;5079;09ja61;js5079;Jamie;Smith;Engineering;Manchester']]\n"
     ]
    }
   ],
   "source": [
    "print(x)"
   ]
  },
  {
   "cell_type": "code",
   "execution_count": 6,
   "id": "2412ca79",
   "metadata": {},
   "outputs": [],
   "source": [
    "a = np.array([[-2.58289208,  0.43014843, -1.24082018, 1.59572603],\n",
    "              [ 0.99027828, 1.17150989,  0.94125714, -0.14692469],\n",
    "              [ 0.76989341,  0.81299683, -0.95068423, 0.11769564],\n",
    "              [ 0.20484034,  0.34784527,  1.96979195, 0.51992837]])"
   ]
  },
  {
   "cell_type": "code",
   "execution_count": 7,
   "id": "c738b14a",
   "metadata": {},
   "outputs": [
    {
     "name": "stdout",
     "output_type": "stream",
     "text": [
      "[[-2.58289208  0.43014843 -1.24082018  1.59572603]\n",
      " [ 0.99027828  1.17150989  0.94125714 -0.14692469]\n",
      " [ 0.76989341  0.81299683 -0.95068423  0.11769564]\n",
      " [ 0.20484034  0.34784527  1.96979195  0.51992837]]\n"
     ]
    }
   ],
   "source": [
    "print(a)"
   ]
  },
  {
   "cell_type": "code",
   "execution_count": 8,
   "id": "5abae681",
   "metadata": {},
   "outputs": [],
   "source": [
    "x = pd.read_csv(\"C:/Users/Alex Garriga/OneDrive/Desktop/AzureDatabricksUdemy/circuits.csv\", header=0).values\n"
   ]
  },
  {
   "cell_type": "code",
   "execution_count": 9,
   "id": "805ad3c2",
   "metadata": {},
   "outputs": [],
   "source": [
    "a = np.array([[-2.58289208,  0.43014843, -1.24082018, 1.59572603],\n",
    "              [ 0.99027828, 1.17150989,  0.94125714, -0.14692469],\n",
    "              [ 0.76989341,  0.81299683, -0.95068423, 0.11769564],\n",
    "              [ 0.20484034,  0.34784527,  1.96979195, 0.51992837]])"
   ]
  },
  {
   "cell_type": "code",
   "execution_count": 10,
   "id": "c2cfce60",
   "metadata": {},
   "outputs": [
    {
     "name": "stdout",
     "output_type": "stream",
     "text": [
      "          0         1         2         3\n",
      "0 -2.582892  0.430148 -1.240820  1.595726\n",
      "1  0.990278  1.171510  0.941257 -0.146925\n",
      "2  0.769893  0.812997 -0.950684  0.117696\n",
      "3  0.204840  0.347845  1.969792  0.519928\n"
     ]
    }
   ],
   "source": [
    "df = pd.DataFrame(a)\n",
    "print(df)"
   ]
  },
  {
   "cell_type": "code",
   "execution_count": 11,
   "id": "cccaf264",
   "metadata": {},
   "outputs": [],
   "source": [
    "df.to_csv('C:/Users/Alex Garriga/OneDrive/Desktop/AzureDatabricksUdemy/pd.csv')"
   ]
  },
  {
   "cell_type": "code",
   "execution_count": 18,
   "id": "8987f7cb",
   "metadata": {},
   "outputs": [
    {
     "name": "stdout",
     "output_type": "stream",
     "text": [
      "[[12 24 31]\n",
      " [45 54 68]]\n"
     ]
    }
   ],
   "source": [
    "arr2d = np.array([[12, 24, 31], [45, 54, 68]])\n",
    "print(arr2d)"
   ]
  },
  {
   "cell_type": "code",
   "execution_count": 19,
   "id": "38d5586e",
   "metadata": {},
   "outputs": [
    {
     "name": "stdout",
     "output_type": "stream",
     "text": [
      "[[[ 1  2  3]\n",
      "  [ 4  5  6]]\n",
      "\n",
      " [[14 26 34]\n",
      "  [45 56 67]]]\n"
     ]
    }
   ],
   "source": [
    "arr3d = np.array([[[1, 2, 3], [4, 5, 6]], [[14, 26, 34], [45, 56, 67]]])\n",
    "\n",
    "print(arr3d)"
   ]
  },
  {
   "cell_type": "code",
   "execution_count": 16,
   "id": "08bf4886",
   "metadata": {},
   "outputs": [
    {
     "name": "stdout",
     "output_type": "stream",
     "text": [
      "2\n",
      "3\n"
     ]
    }
   ],
   "source": [
    "print(arr2d.ndim)\n",
    "print(arr3d.ndim)"
   ]
  },
  {
   "cell_type": "code",
   "execution_count": 23,
   "id": "9f6b6412",
   "metadata": {},
   "outputs": [
    {
     "name": "stdout",
     "output_type": "stream",
     "text": [
      "[[[[[1 2 3 4]\n",
      "    [6 7 8 9]]]]]\n",
      "number of dimensions : 5\n"
     ]
    }
   ],
   "source": [
    "arr5d = np.array([[1, 2, 3, 4],[6,7,8,9]], ndmin=5)\n",
    "\n",
    "print(arr5d)\n",
    "print('number of dimensions :', arr5d.ndim)"
   ]
  },
  {
   "cell_type": "code",
   "execution_count": 30,
   "id": "1c5e585e",
   "metadata": {},
   "outputs": [
    {
     "name": "stdout",
     "output_type": "stream",
     "text": [
      "[12 24 31]\n",
      "24\n",
      "[45 54 68]\n",
      "45\n",
      "69\n",
      "[[1 2 3]\n",
      " [4 5 6]]\n",
      "[1 2 3]\n",
      "1\n",
      "[[1 2 3 4]\n",
      " [6 7 8 9]]\n",
      "[6 7 8 9]\n"
     ]
    }
   ],
   "source": [
    "print(arr2d[0])\n",
    "print(arr2d[0,1])\n",
    "print(arr2d[1])\n",
    "print(arr2d[1,0])\n",
    "print(arr2d[1,0]+arr2d[0,1])\n",
    "print(arr3d[0])\n",
    "print(arr3d[0,0])\n",
    "print(arr3d[0,0,0])\n",
    "print(arr5d[0,0,0])\n",
    "print(arr5d[0,0,0,1])"
   ]
  },
  {
   "cell_type": "code",
   "execution_count": 34,
   "id": "0f41a7fd",
   "metadata": {},
   "outputs": [],
   "source": [
    "arr1d=np.array([0,1, 2, 3, 4, 5, 6, 7,8,9,10,11,12,13,14,15])"
   ]
  },
  {
   "cell_type": "code",
   "execution_count": 35,
   "id": "7b808812",
   "metadata": {},
   "outputs": [
    {
     "name": "stdout",
     "output_type": "stream",
     "text": [
      "[1 2 3 4]\n"
     ]
    }
   ],
   "source": [
    "print(arr1d[1:5])"
   ]
  },
  {
   "cell_type": "code",
   "execution_count": 37,
   "id": "bc5ad7c4",
   "metadata": {},
   "outputs": [
    {
     "name": "stdout",
     "output_type": "stream",
     "text": [
      "[ 8  9 10 11 12 13 14 15]\n"
     ]
    }
   ],
   "source": [
    "print(arr1d[8:])"
   ]
  },
  {
   "cell_type": "code",
   "execution_count": 38,
   "id": "6484a9e6",
   "metadata": {},
   "outputs": [
    {
     "name": "stdout",
     "output_type": "stream",
     "text": [
      "[0 1 2 3 4]\n"
     ]
    }
   ],
   "source": [
    "print(arr1d[:5])"
   ]
  },
  {
   "cell_type": "code",
   "execution_count": 40,
   "id": "6b710814",
   "metadata": {},
   "outputs": [
    {
     "name": "stdout",
     "output_type": "stream",
     "text": [
      "[12 13 14]\n"
     ]
    }
   ],
   "source": [
    "print(arr1d[-4:-1])"
   ]
  },
  {
   "cell_type": "code",
   "execution_count": 44,
   "id": "762c33a1",
   "metadata": {},
   "outputs": [
    {
     "name": "stdout",
     "output_type": "stream",
     "text": [
      "[2 4 6 8]\n"
     ]
    }
   ],
   "source": [
    "print(arr1d[2:10:2])"
   ]
  },
  {
   "cell_type": "code",
   "execution_count": 45,
   "id": "c89aca2d",
   "metadata": {},
   "outputs": [
    {
     "name": "stdout",
     "output_type": "stream",
     "text": [
      "[54 68]\n"
     ]
    }
   ],
   "source": [
    "print(arr2d[1, 1:4])"
   ]
  },
  {
   "cell_type": "code",
   "execution_count": 46,
   "id": "3b7f573f",
   "metadata": {},
   "outputs": [
    {
     "name": "stdout",
     "output_type": "stream",
     "text": [
      "int32\n"
     ]
    }
   ],
   "source": [
    "print(arr1d.dtype)"
   ]
  },
  {
   "cell_type": "code",
   "execution_count": 48,
   "id": "db85246e",
   "metadata": {},
   "outputs": [
    {
     "name": "stdout",
     "output_type": "stream",
     "text": [
      "<U4\n"
     ]
    }
   ],
   "source": [
    "arrstring = np.array(['Ford', 'BMW', 'GMC'])\n",
    "print(arrstring.dtype)"
   ]
  },
  {
   "cell_type": "code",
   "execution_count": 49,
   "id": "60b56314",
   "metadata": {},
   "outputs": [
    {
     "name": "stdout",
     "output_type": "stream",
     "text": [
      "[b'1' b'2' b'3' b'4' b'4.5' b'3.2' b'2.13']\n",
      "|S4\n"
     ]
    }
   ],
   "source": [
    "arrstring2 = np.array([1, 2, 3, 4,4.5,3.2,2.13], dtype='S')\n",
    "print(arrstring2)\n",
    "print(arrstring2.dtype)"
   ]
  },
  {
   "cell_type": "code",
   "execution_count": 52,
   "id": "4e9d49d1",
   "metadata": {},
   "outputs": [
    {
     "name": "stdout",
     "output_type": "stream",
     "text": [
      "[1 2 3 4 4 3 2]\n",
      "int32\n"
     ]
    }
   ],
   "source": [
    "arri4 = np.array([1, 2, 3, 4,4.5,3.2,2.13], dtype='i4')\n",
    "print(arri4)\n",
    "print(arri4.dtype)"
   ]
  },
  {
   "cell_type": "code",
   "execution_count": 54,
   "id": "fb524d83",
   "metadata": {},
   "outputs": [
    {
     "name": "stdout",
     "output_type": "stream",
     "text": [
      "[  1.143 322.14  436.12 ]\n",
      "float64\n",
      "[  1 322 436]\n",
      "int32\n"
     ]
    }
   ],
   "source": [
    "arrdec = np.array([1.143, 322.14, 436.12])\n",
    "print(arrdec)\n",
    "print(arrdec.dtype)\n",
    "newarrdec = arrdec.astype('i')\n",
    "\n",
    "print(newarrdec)\n",
    "print(newarrdec.dtype)"
   ]
  },
  {
   "cell_type": "code",
   "execution_count": 58,
   "id": "4abd7ff6",
   "metadata": {},
   "outputs": [
    {
     "name": "stdout",
     "output_type": "stream",
     "text": [
      "[ 1  0  3  2  4  5 -1]\n",
      "int32\n",
      "[ True False  True  True  True  True  True]\n",
      "bool\n"
     ]
    }
   ],
   "source": [
    "arrint = np.array([1, 0, 3,2,4,5,-1])\n",
    "print(arrint)\n",
    "print(arrint.dtype)\n",
    "newarrint = arrint.astype(bool)\n",
    "\n",
    "print(newarrint)\n",
    "print(newarrint.dtype)"
   ]
  },
  {
   "cell_type": "code",
   "execution_count": 59,
   "id": "9751044c",
   "metadata": {},
   "outputs": [
    {
     "data": {
      "text/plain": [
       "' numpy data types and code\\ni - integer\\nb - boolean\\nu - unsigned integer\\nf - float\\nc - complex float\\nm - timedelta\\nM - datetime\\nO - object\\nS - string\\nU - unicode string\\nV - fixed chunk of memory for other type ( void )'"
      ]
     },
     "execution_count": 59,
     "metadata": {},
     "output_type": "execute_result"
    }
   ],
   "source": [
    "''' numpy data types and code\n",
    "i - integer\n",
    "b - boolean\n",
    "u - unsigned integer\n",
    "f - float\n",
    "c - complex float\n",
    "m - timedelta\n",
    "M - datetime\n",
    "O - object\n",
    "S - string\n",
    "U - unicode string\n",
    "V - fixed chunk of memory for other type ( void )'''"
   ]
  },
  {
   "cell_type": "code",
   "execution_count": 63,
   "id": "a1b26c7c",
   "metadata": {},
   "outputs": [
    {
     "name": "stdout",
     "output_type": "stream",
     "text": [
      "[ 42  22  32 431  55]\n",
      "[ 12  22  32 431  55]\n"
     ]
    }
   ],
   "source": [
    "arr1d2 = np.array([12, 22, 32, 431, 55])\n",
    "xcopy = arr1d2.copy()\n",
    "arr1d2[0] = 42\n",
    "\n",
    "print(arr1d2)\n",
    "print(xcopy)"
   ]
  },
  {
   "cell_type": "code",
   "execution_count": 66,
   "id": "729eff46",
   "metadata": {},
   "outputs": [
    {
     "name": "stdout",
     "output_type": "stream",
     "text": [
      "[312  22   3 431  55]\n",
      "[312  22   3 431  55]\n"
     ]
    }
   ],
   "source": [
    "import numpy as np\n",
    "\n",
    "xview = arr1d2.view()\n",
    "arr1d2[0] = 312\n",
    "xview[2]=3\n",
    "print(arr1d2)\n",
    "print(xview)"
   ]
  },
  {
   "cell_type": "code",
   "execution_count": 67,
   "id": "7dc0b7f7",
   "metadata": {},
   "outputs": [
    {
     "name": "stdout",
     "output_type": "stream",
     "text": [
      "[312  22   3 431  55]\n",
      "None\n"
     ]
    }
   ],
   "source": [
    "print(xview.base)\n",
    "print(xcopy.base)"
   ]
  },
  {
   "cell_type": "code",
   "execution_count": 70,
   "id": "067809cd",
   "metadata": {},
   "outputs": [
    {
     "name": "stdout",
     "output_type": "stream",
     "text": [
      "(2, 2, 3)\n",
      "(2, 3)\n",
      "(16,)\n",
      "[[[[[1 2 3 4]\n",
      "    [6 7 8 9]]]]]\n",
      "shape of array : (1, 1, 1, 2, 4)\n"
     ]
    }
   ],
   "source": [
    "print(arr3d.shape)\n",
    "print(arr2d.shape)\n",
    "print(arr1d.shape)\n",
    "print(arr5d)\n",
    "print('shape of array :', arr5d.shape)"
   ]
  },
  {
   "cell_type": "code",
   "execution_count": 76,
   "id": "2c23dd65",
   "metadata": {},
   "outputs": [
    {
     "name": "stdout",
     "output_type": "stream",
     "text": [
      "[ 1  2  3  4  5  6  7  8  9 10 11 12 13 14 15 16]\n",
      "[[ 1  2  3  4]\n",
      " [ 5  6  7  8]\n",
      " [ 9 10 11 12]\n",
      " [13 14 15 16]]\n",
      "[[[[ 1  2]\n",
      "   [ 3  4]]\n",
      "\n",
      "  [[ 5  6]\n",
      "   [ 7  8]]]\n",
      "\n",
      "\n",
      " [[[ 9 10]\n",
      "   [11 12]]\n",
      "\n",
      "  [[13 14]\n",
      "   [15 16]]]]\n",
      "[[[ 1  2  3  4]\n",
      "  [ 5  6  7  8]]\n",
      "\n",
      " [[ 9 10 11 12]\n",
      "  [13 14 15 16]]]\n"
     ]
    }
   ],
   "source": [
    "arrshape = np.array([1, 2, 3, 4, 5, 6, 7, 8, 9, 10, 11, 12,13,14,15,16])\n",
    "\n",
    "newarrshape = arrshape.reshape(4, 4)\n",
    "newarrshape2 = arrshape.reshape(2, 2, 2,2)\n",
    "newarrshape3 = arrshape.reshape(2, 2, -1)\n",
    "print(arrshape)\n",
    "print(newarrshape)\n",
    "print(newarrshape2)\n",
    "print(newarrshape3)"
   ]
  },
  {
   "cell_type": "code",
   "execution_count": 75,
   "id": "72274b07",
   "metadata": {},
   "outputs": [
    {
     "name": "stdout",
     "output_type": "stream",
     "text": [
      "None\n",
      "[ 1  2  3  4  5  6  7  8  9 10 11 12 13 14 15 16]\n",
      "[ 1  2  3  4  5  6  7  8  9 10 11 12 13 14 15 16]\n"
     ]
    }
   ],
   "source": [
    "print(arrshape.base)\n",
    "print(newarrshape.base)\n",
    "print(newarrshape2.base)\n"
   ]
  },
  {
   "cell_type": "code",
   "execution_count": 78,
   "id": "2c02b7c1",
   "metadata": {},
   "outputs": [
    {
     "name": "stdout",
     "output_type": "stream",
     "text": [
      "[7 5 1 4 9 9]\n"
     ]
    }
   ],
   "source": [
    "arrshape2 = np.array([[7, 5, 1], [4, 9, 9]])\n",
    "\n",
    "newarrshape4 = arrshape2.reshape(-1)\n",
    "\n",
    "print(newarrshape4)"
   ]
  },
  {
   "cell_type": "code",
   "execution_count": 79,
   "id": "ac8fd28d",
   "metadata": {},
   "outputs": [
    {
     "name": "stdout",
     "output_type": "stream",
     "text": [
      "1\n",
      "2\n",
      "3\n",
      "4\n",
      "5\n",
      "6\n",
      "7\n",
      "8\n",
      "9\n",
      "10\n",
      "11\n",
      "12\n",
      "13\n",
      "14\n",
      "15\n",
      "16\n"
     ]
    }
   ],
   "source": [
    "for x in arrshape:\n",
    "  print(x)"
   ]
  },
  {
   "cell_type": "code",
   "execution_count": 80,
   "id": "6151ac03",
   "metadata": {},
   "outputs": [
    {
     "name": "stdout",
     "output_type": "stream",
     "text": [
      "[7 5 1]\n",
      "[4 9 9]\n"
     ]
    }
   ],
   "source": [
    "for x in arrshape2:\n",
    "  print(x)"
   ]
  },
  {
   "cell_type": "code",
   "execution_count": 81,
   "id": "1579d619",
   "metadata": {},
   "outputs": [
    {
     "name": "stdout",
     "output_type": "stream",
     "text": [
      "7\n",
      "5\n",
      "1\n",
      "4\n",
      "9\n",
      "9\n"
     ]
    }
   ],
   "source": [
    "for x in arrshape2:\n",
    "  for y in x:\n",
    "    print(y)"
   ]
  },
  {
   "cell_type": "code",
   "execution_count": 82,
   "id": "3a81e0a7",
   "metadata": {},
   "outputs": [
    {
     "name": "stdout",
     "output_type": "stream",
     "text": [
      "1\n",
      "2\n",
      "3\n",
      "4\n",
      "5\n",
      "6\n",
      "14\n",
      "26\n",
      "34\n",
      "45\n",
      "56\n",
      "67\n"
     ]
    }
   ],
   "source": [
    "for x in arr3d:\n",
    "  for y in x:\n",
    "    for z in y:\n",
    "      print(z)"
   ]
  },
  {
   "cell_type": "code",
   "execution_count": 83,
   "id": "72fdced5",
   "metadata": {},
   "outputs": [
    {
     "name": "stdout",
     "output_type": "stream",
     "text": [
      "1\n",
      "2\n",
      "3\n",
      "4\n",
      "6\n",
      "7\n",
      "8\n",
      "9\n"
     ]
    }
   ],
   "source": [
    "for x in np.nditer(arr5d):\n",
    "  print(x)"
   ]
  },
  {
   "cell_type": "code",
   "execution_count": 84,
   "id": "6e33f6c1",
   "metadata": {},
   "outputs": [
    {
     "name": "stdout",
     "output_type": "stream",
     "text": [
      "b'1'\n",
      "b'2'\n",
      "b'3'\n",
      "b'4'\n",
      "b'5'\n",
      "b'6'\n",
      "b'7'\n",
      "b'8'\n",
      "b'9'\n",
      "b'10'\n",
      "b'11'\n",
      "b'12'\n",
      "b'13'\n",
      "b'14'\n",
      "b'15'\n",
      "b'16'\n"
     ]
    }
   ],
   "source": [
    "for x in np.nditer(arrshape, flags=['buffered'], op_dtypes=['S']):\n",
    "  print(x)"
   ]
  },
  {
   "cell_type": "code",
   "execution_count": 86,
   "id": "6b056e5e",
   "metadata": {},
   "outputs": [
    {
     "name": "stdout",
     "output_type": "stream",
     "text": [
      "7\n",
      "1\n",
      "4\n",
      "9\n"
     ]
    }
   ],
   "source": [
    "for x in np.nditer(arrshape2[:, ::2]):\n",
    "  print(x)"
   ]
  },
  {
   "cell_type": "code",
   "execution_count": null,
   "id": "99dec3bc",
   "metadata": {},
   "outputs": [],
   "source": []
  }
 ],
 "metadata": {
  "kernelspec": {
   "display_name": "Python 3 (ipykernel)",
   "language": "python",
   "name": "python3"
  },
  "language_info": {
   "codemirror_mode": {
    "name": "ipython",
    "version": 3
   },
   "file_extension": ".py",
   "mimetype": "text/x-python",
   "name": "python",
   "nbconvert_exporter": "python",
   "pygments_lexer": "ipython3",
   "version": "3.10.0"
  }
 },
 "nbformat": 4,
 "nbformat_minor": 5
}
