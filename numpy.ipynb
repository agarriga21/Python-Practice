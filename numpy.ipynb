{
 "cells": [
  {
   "cell_type": "code",
   "execution_count": 2,
   "id": "51eab054",
   "metadata": {},
   "outputs": [],
   "source": [
    "import numpy as np"
   ]
  },
  {
   "cell_type": "code",
   "execution_count": 3,
   "id": "eba73044",
   "metadata": {},
   "outputs": [],
   "source": [
    "import pandas as pd"
   ]
  },
  {
   "cell_type": "code",
   "execution_count": 4,
   "id": "a1ab94f2",
   "metadata": {},
   "outputs": [],
   "source": [
    "x = pd.read_csv(\"C:/Users/Alex Garriga/Downloads/email-password-recovery-code.csv\", header=0).values"
   ]
  },
  {
   "cell_type": "code",
   "execution_count": 5,
   "id": "e627a260",
   "metadata": {},
   "outputs": [
    {
     "name": "stdout",
     "output_type": "stream",
     "text": [
      "[['rachel@example.com;9012;12se74;rb9012;Rachel;Booker;Sales;Manchester']\n",
      " ['laura@example.com;2070;04ap67;lg2070;Laura;Grey;Depot;London']\n",
      " ['craig@example.com;4081;30no86;cj4081;Craig;Johnson;Depot;London']\n",
      " ['mary@example.com;9346;14ju73;mj9346;Mary;Jenkins;Engineering;Manchester']\n",
      " ['jamie@example.com;5079;09ja61;js5079;Jamie;Smith;Engineering;Manchester']]\n"
     ]
    }
   ],
   "source": [
    "print(x)"
   ]
  },
  {
   "cell_type": "code",
   "execution_count": 6,
   "id": "2412ca79",
   "metadata": {},
   "outputs": [],
   "source": [
    "a = np.array([[-2.58289208,  0.43014843, -1.24082018, 1.59572603],\n",
    "              [ 0.99027828, 1.17150989,  0.94125714, -0.14692469],\n",
    "              [ 0.76989341,  0.81299683, -0.95068423, 0.11769564],\n",
    "              [ 0.20484034,  0.34784527,  1.96979195, 0.51992837]])"
   ]
  },
  {
   "cell_type": "code",
   "execution_count": 7,
   "id": "c738b14a",
   "metadata": {},
   "outputs": [
    {
     "name": "stdout",
     "output_type": "stream",
     "text": [
      "[[-2.58289208  0.43014843 -1.24082018  1.59572603]\n",
      " [ 0.99027828  1.17150989  0.94125714 -0.14692469]\n",
      " [ 0.76989341  0.81299683 -0.95068423  0.11769564]\n",
      " [ 0.20484034  0.34784527  1.96979195  0.51992837]]\n"
     ]
    }
   ],
   "source": [
    "print(a)"
   ]
  },
  {
   "cell_type": "code",
   "execution_count": 8,
   "id": "5abae681",
   "metadata": {},
   "outputs": [],
   "source": [
    "x = pd.read_csv(\"C:/Users/Alex Garriga/OneDrive/Desktop/AzureDatabricksUdemy/circuits.csv\", header=0).values\n"
   ]
  },
  {
   "cell_type": "code",
   "execution_count": 9,
   "id": "805ad3c2",
   "metadata": {},
   "outputs": [],
   "source": [
    "a = np.array([[-2.58289208,  0.43014843, -1.24082018, 1.59572603],\n",
    "              [ 0.99027828, 1.17150989,  0.94125714, -0.14692469],\n",
    "              [ 0.76989341,  0.81299683, -0.95068423, 0.11769564],\n",
    "              [ 0.20484034,  0.34784527,  1.96979195, 0.51992837]])"
   ]
  },
  {
   "cell_type": "code",
   "execution_count": 10,
   "id": "c2cfce60",
   "metadata": {},
   "outputs": [
    {
     "name": "stdout",
     "output_type": "stream",
     "text": [
      "          0         1         2         3\n",
      "0 -2.582892  0.430148 -1.240820  1.595726\n",
      "1  0.990278  1.171510  0.941257 -0.146925\n",
      "2  0.769893  0.812997 -0.950684  0.117696\n",
      "3  0.204840  0.347845  1.969792  0.519928\n"
     ]
    }
   ],
   "source": [
    "df = pd.DataFrame(a)\n",
    "print(df)"
   ]
  },
  {
   "cell_type": "code",
   "execution_count": 11,
   "id": "cccaf264",
   "metadata": {},
   "outputs": [],
   "source": [
    "df.to_csv('C:/Users/Alex Garriga/OneDrive/Desktop/AzureDatabricksUdemy/pd.csv')"
   ]
  },
  {
   "cell_type": "code",
   "execution_count": 18,
   "id": "8987f7cb",
   "metadata": {},
   "outputs": [
    {
     "name": "stdout",
     "output_type": "stream",
     "text": [
      "[[12 24 31]\n",
      " [45 54 68]]\n"
     ]
    }
   ],
   "source": [
    "arr2d = np.array([[12, 24, 31], [45, 54, 68]])\n",
    "print(arr2d)"
   ]
  },
  {
   "cell_type": "code",
   "execution_count": 19,
   "id": "a13c394c",
   "metadata": {},
   "outputs": [
    {
     "name": "stdout",
     "output_type": "stream",
     "text": [
      "[[[ 1  2  3]\n",
      "  [ 4  5  6]]\n",
      "\n",
      " [[14 26 34]\n",
      "  [45 56 67]]]\n"
     ]
    }
   ],
   "source": [
    "arr3d = np.array([[[1, 2, 3], [4, 5, 6]], [[14, 26, 34], [45, 56, 67]]])\n",
    "\n",
    "print(arr3d)"
   ]
  },
  {
   "cell_type": "code",
   "execution_count": 16,
   "id": "6977ddf7",
   "metadata": {},
   "outputs": [
    {
     "name": "stdout",
     "output_type": "stream",
     "text": [
      "2\n",
      "3\n"
     ]
    }
   ],
   "source": [
    "print(arr2d.ndim)\n",
    "print(arr3d.ndim)"
   ]
  },
  {
   "cell_type": "code",
   "execution_count": 23,
   "id": "2683d801",
   "metadata": {},
   "outputs": [
    {
     "name": "stdout",
     "output_type": "stream",
     "text": [
      "[[[[[1 2 3 4]\n",
      "    [6 7 8 9]]]]]\n",
      "number of dimensions : 5\n"
     ]
    }
   ],
   "source": [
    "arr5d = np.array([[1, 2, 3, 4],[6,7,8,9]], ndmin=5)\n",
    "\n",
    "print(arr5d)\n",
    "print('number of dimensions :', arr5d.ndim)"
   ]
  },
  {
   "cell_type": "code",
   "execution_count": 30,
   "id": "92ab0bb5",
   "metadata": {},
   "outputs": [
    {
     "name": "stdout",
     "output_type": "stream",
     "text": [
      "[12 24 31]\n",
      "24\n",
      "[45 54 68]\n",
      "45\n",
      "69\n",
      "[[1 2 3]\n",
      " [4 5 6]]\n",
      "[1 2 3]\n",
      "1\n",
      "[[1 2 3 4]\n",
      " [6 7 8 9]]\n",
      "[6 7 8 9]\n"
     ]
    }
   ],
   "source": [
    "print(arr2d[0])\n",
    "print(arr2d[0,1])\n",
    "print(arr2d[1])\n",
    "print(arr2d[1,0])\n",
    "print(arr2d[1,0]+arr2d[0,1])\n",
    "print(arr3d[0])\n",
    "print(arr3d[0,0])\n",
    "print(arr3d[0,0,0])\n",
    "print(arr5d[0,0,0])\n",
    "print(arr5d[0,0,0,1])"
   ]
  },
  {
   "cell_type": "code",
   "execution_count": 34,
   "id": "aa2cd71b",
   "metadata": {},
   "outputs": [],
   "source": [
    "arr1d=np.array([0,1, 2, 3, 4, 5, 6, 7,8,9,10,11,12,13,14,15])"
   ]
  },
  {
   "cell_type": "code",
   "execution_count": 35,
   "id": "51797b49",
   "metadata": {},
   "outputs": [
    {
     "name": "stdout",
     "output_type": "stream",
     "text": [
      "[1 2 3 4]\n"
     ]
    }
   ],
   "source": [
    "print(arr1d[1:5])"
   ]
  },
  {
   "cell_type": "code",
   "execution_count": 37,
   "id": "ef25cb5a",
   "metadata": {},
   "outputs": [
    {
     "name": "stdout",
     "output_type": "stream",
     "text": [
      "[ 8  9 10 11 12 13 14 15]\n"
     ]
    }
   ],
   "source": [
    "print(arr1d[8:])"
   ]
  },
  {
   "cell_type": "code",
   "execution_count": 38,
   "id": "3e62cc29",
   "metadata": {},
   "outputs": [
    {
     "name": "stdout",
     "output_type": "stream",
     "text": [
      "[0 1 2 3 4]\n"
     ]
    }
   ],
   "source": [
    "print(arr1d[:5])"
   ]
  },
  {
   "cell_type": "code",
   "execution_count": 40,
   "id": "6985741d",
   "metadata": {},
   "outputs": [
    {
     "name": "stdout",
     "output_type": "stream",
     "text": [
      "[12 13 14]\n"
     ]
    }
   ],
   "source": [
    "print(arr1d[-4:-1])"
   ]
  },
  {
   "cell_type": "code",
   "execution_count": 44,
   "id": "48b62a9e",
   "metadata": {},
   "outputs": [
    {
     "name": "stdout",
     "output_type": "stream",
     "text": [
      "[2 4 6 8]\n"
     ]
    }
   ],
   "source": [
    "print(arr1d[2:10:2])"
   ]
  },
  {
   "cell_type": "code",
   "execution_count": 45,
   "id": "578c9f4c",
   "metadata": {},
   "outputs": [
    {
     "name": "stdout",
     "output_type": "stream",
     "text": [
      "[54 68]\n"
     ]
    }
   ],
   "source": [
    "print(arr2d[1, 1:4])"
   ]
  },
  {
   "cell_type": "code",
   "execution_count": 46,
   "id": "89371eba",
   "metadata": {},
   "outputs": [
    {
     "name": "stdout",
     "output_type": "stream",
     "text": [
      "int32\n"
     ]
    }
   ],
   "source": [
    "print(arr1d.dtype)"
   ]
  },
  {
   "cell_type": "code",
   "execution_count": 48,
   "id": "0ed5cbad",
   "metadata": {},
   "outputs": [
    {
     "name": "stdout",
     "output_type": "stream",
     "text": [
      "<U4\n"
     ]
    }
   ],
   "source": [
    "arrstring = np.array(['Ford', 'BMW', 'GMC'])\n",
    "print(arrstring.dtype)"
   ]
  },
  {
   "cell_type": "code",
   "execution_count": 49,
   "id": "d2609a2e",
   "metadata": {},
   "outputs": [
    {
     "name": "stdout",
     "output_type": "stream",
     "text": [
      "[b'1' b'2' b'3' b'4' b'4.5' b'3.2' b'2.13']\n",
      "|S4\n"
     ]
    }
   ],
   "source": [
    "arrstring2 = np.array([1, 2, 3, 4,4.5,3.2,2.13], dtype='S')\n",
    "print(arrstring2)\n",
    "print(arrstring2.dtype)"
   ]
  },
  {
   "cell_type": "code",
   "execution_count": 52,
   "id": "024c9f50",
   "metadata": {},
   "outputs": [
    {
     "name": "stdout",
     "output_type": "stream",
     "text": [
      "[1 2 3 4 4 3 2]\n",
      "int32\n"
     ]
    }
   ],
   "source": [
    "arri4 = np.array([1, 2, 3, 4,4.5,3.2,2.13], dtype='i4')\n",
    "print(arri4)\n",
    "print(arri4.dtype)"
   ]
  },
  {
   "cell_type": "code",
   "execution_count": 54,
   "id": "c93e1a66",
   "metadata": {},
   "outputs": [
    {
     "name": "stdout",
     "output_type": "stream",
     "text": [
      "[  1.143 322.14  436.12 ]\n",
      "float64\n",
      "[  1 322 436]\n",
      "int32\n"
     ]
    }
   ],
   "source": [
    "arrdec = np.array([1.143, 322.14, 436.12])\n",
    "print(arrdec)\n",
    "print(arrdec.dtype)\n",
    "newarrdec = arrdec.astype('i')\n",
    "\n",
    "print(newarrdec)\n",
    "print(newarrdec.dtype)"
   ]
  },
  {
   "cell_type": "code",
   "execution_count": 58,
   "id": "0b4c319f",
   "metadata": {},
   "outputs": [
    {
     "name": "stdout",
     "output_type": "stream",
     "text": [
      "[ 1  0  3  2  4  5 -1]\n",
      "int32\n",
      "[ True False  True  True  True  True  True]\n",
      "bool\n"
     ]
    }
   ],
   "source": [
    "arrint = np.array([1, 0, 3,2,4,5,-1])\n",
    "print(arrint)\n",
    "print(arrint.dtype)\n",
    "newarrint = arrint.astype(bool)\n",
    "\n",
    "print(newarrint)\n",
    "print(newarrint.dtype)"
   ]
  },
  {
   "cell_type": "code",
   "execution_count": 59,
   "id": "0707ce3a",
   "metadata": {},
   "outputs": [
    {
     "data": {
      "text/plain": [
       "' numpy data types and code\\ni - integer\\nb - boolean\\nu - unsigned integer\\nf - float\\nc - complex float\\nm - timedelta\\nM - datetime\\nO - object\\nS - string\\nU - unicode string\\nV - fixed chunk of memory for other type ( void )'"
      ]
     },
     "execution_count": 59,
     "metadata": {},
     "output_type": "execute_result"
    }
   ],
   "source": [
    "''' numpy data types and code\n",
    "i - integer\n",
    "b - boolean\n",
    "u - unsigned integer\n",
    "f - float\n",
    "c - complex float\n",
    "m - timedelta\n",
    "M - datetime\n",
    "O - object\n",
    "S - string\n",
    "U - unicode string\n",
    "V - fixed chunk of memory for other type ( void )'''"
   ]
  },
  {
   "cell_type": "code",
   "execution_count": null,
   "id": "cd19ee76",
   "metadata": {},
   "outputs": [],
   "source": []
  }
 ],
 "metadata": {
  "kernelspec": {
   "display_name": "Python 3 (ipykernel)",
   "language": "python",
   "name": "python3"
  },
  "language_info": {
   "codemirror_mode": {
    "name": "ipython",
    "version": 3
   },
   "file_extension": ".py",
   "mimetype": "text/x-python",
   "name": "python",
   "nbconvert_exporter": "python",
   "pygments_lexer": "ipython3",
   "version": "3.10.0"
  }
 },
 "nbformat": 4,
 "nbformat_minor": 5
}
